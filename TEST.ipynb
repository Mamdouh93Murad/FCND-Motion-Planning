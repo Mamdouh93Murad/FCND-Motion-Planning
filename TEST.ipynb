{
 "cells": [
  {
   "cell_type": "code",
   "execution_count": 8,
   "metadata": {},
   "outputs": [],
   "source": [
    "import argparse\n",
    "import time\n",
    "import msgpack\n",
    "from enum import Enum, auto\n",
    "import utm\n",
    "import numpy as np\n",
    "\n",
    "#from planning_utils import a_star, heuristic, create_grid\n",
    "from planning import * #modified version of a_star containing diagonal movement, np.linalg.norm Heuristic\n",
    "from grid import *\n",
    "#from udacidrone import Drone\n",
    "#from udacidrone.connection import MavlinkConnection\n",
    "#from udacidrone.messaging import MsgID\n",
    "#from udacidrone.frame_utils import global_to_local\n",
    "from geo_ned import *  #to convert from geo to ned freely. vice versa\n",
    "from colinear import * #contains prune_path and other useful definitions/functions/algorithms\n",
    "from RRT import * \n",
    "from roadmap import *"
   ]
  },
  {
   "cell_type": "code",
   "execution_count": 9,
   "metadata": {},
   "outputs": [],
   "source": [
    "TARGET_ALTITUDE = 5\n",
    "SAFETY_DISTANCE = 5"
   ]
  },
  {
   "cell_type": "code",
   "execution_count": 10,
   "metadata": {},
   "outputs": [],
   "source": [
    "data = np.loadtxt('colliders.csv', delimiter=',', dtype='Float64', skiprows=2)"
   ]
  },
  {
   "cell_type": "code",
   "execution_count": 11,
   "metadata": {},
   "outputs": [],
   "source": [
    "grid, north_offset, east_offset = create_grid(data, TARGET_ALTITUDE, SAFETY_DISTANCE)"
   ]
  },
  {
   "cell_type": "code",
   "execution_count": 14,
   "metadata": {},
   "outputs": [],
   "source": [
    "grid_start = (25,  100)"
   ]
  },
  {
   "cell_type": "code",
   "execution_count": 15,
   "metadata": {},
   "outputs": [],
   "source": [
    "grid_goal = (750, 370)"
   ]
  },
  {
   "cell_type": "code",
   "execution_count": 23,
   "metadata": {},
   "outputs": [],
   "source": [
    "rrt = generate_RRT(grid, grid_start, 300, 1)"
   ]
  },
  {
   "cell_type": "code",
   "execution_count": 24,
   "metadata": {},
   "outputs": [
    {
     "name": "stdout",
     "output_type": "stream",
     "text": [
      "<RRT.RRT object at 0x000002077FC6FD30>\n",
      "47\n",
      "48\n"
     ]
    }
   ],
   "source": [
    "print(rrt)\n",
    "print(len(rrt.edges))\n",
    "print(len(rrt.vertices))"
   ]
  },
  {
   "cell_type": "code",
   "execution_count": 26,
   "metadata": {},
   "outputs": [
    {
     "name": "stdout",
     "output_type": "stream",
     "text": [
      "[(25, 100), (25.786166002243778, 100.61801538566287), (26.76745587299925, 100.81055158888894), (27.767455560024008, 100.80976041862658), (28.566790166830103, 101.41064658618426), (29.478653007659855, 101.82114160383233), (30.342073056137142, 102.32562730222969), (31.119818414278583, 102.9542067784214), (32.08787768807506, 103.20492822229215), (32.56010352293814, 104.08640582319184), (32.51041950527712, 105.08517080975727), (33.202706527755275, 105.80679306447807), (34.194739420305936, 105.93277219012028), (34.97632948643561, 106.55656459831984), (34.96922111829858, 107.5565393335519), (34.959015613515525, 108.55648725603193), (34.93304099174492, 109.55614985862536), (34.97671948635342, 110.55519549777742), (34.94265337232586, 111.55461507927212), (34.98658996699578, 112.5536494008291), (34.99393854053862, 113.55362239969801), (34.9696173185535, 114.5533265950284), (28.162347933664567, 99.89103303074674), (34.941416285536484, 115.55292886680292), (34.97011420875411, 116.55251699658588), (34.94387180456414, 117.5521726053944), (34.67853758453634, 118.51632910289999), (34.649156421213114, 119.51589738332999), (34.838238165004476, 120.49785873397715), (34.811787471104594, 121.49750885316497), (34.7812995758809, 122.49704398923815), (34.83082835685573, 123.49581668602914), (32.7893279295892, 102.49220979354223), (34.79367144537227, 124.49512612955954), (24.0927831142226, 100.42066319325602), (34.85006101454822, 125.49353497191228), (28.626228976504798, 99.00513553210851), (34.98954460695369, 126.48375935428714), (34.94178179830719, 127.48261806006599), (34.805980008145276, 128.47335408635595), (23.51074988971103, 101.23382819838392), (34.87305360385981, 129.47110211705206), (34.84729329009917, 130.47077026510667), (34.829618703742234, 131.4706140574048), (34.87371734810766, 132.46964123899954), (34.90154394787608, 133.4692540041968), (34.92168053452045, 134.46905124257984), (34.85144415955637, 135.46658161887518)]\n"
     ]
    }
   ],
   "source": [
    "print(rrt.vertices)"
   ]
  },
  {
   "cell_type": "code",
   "execution_count": 27,
   "metadata": {},
   "outputs": [
    {
     "ename": "TypeError",
     "evalue": "'RRT' object is not subscriptable",
     "output_type": "error",
     "traceback": [
      "\u001b[1;31m---------------------------------------------------------------------------\u001b[0m",
      "\u001b[1;31mTypeError\u001b[0m                                 Traceback (most recent call last)",
      "\u001b[1;32m<ipython-input-27-4e9721ae8730>\u001b[0m in \u001b[0;36m<module>\u001b[1;34m()\u001b[0m\n\u001b[1;32m----> 1\u001b[1;33m \u001b[0ma_star_graph\u001b[0m\u001b[1;33m(\u001b[0m\u001b[0mrrt\u001b[0m\u001b[1;33m,\u001b[0m \u001b[0mheuristic_func\u001b[0m\u001b[1;33m,\u001b[0m \u001b[0mgrid_start\u001b[0m\u001b[1;33m,\u001b[0m \u001b[0mgrid_goal\u001b[0m\u001b[1;33m)\u001b[0m\u001b[1;33m\u001b[0m\u001b[0m\n\u001b[0m",
      "\u001b[1;32mC:\\FCND\\FCND-Motion-Planning\\roadmap.py\u001b[0m in \u001b[0;36ma_star_graph\u001b[1;34m(graph, heuristic, start, goal)\u001b[0m\n\u001b[0;32m    125\u001b[0m             \u001b[1;32mbreak\u001b[0m\u001b[1;33m\u001b[0m\u001b[0m\n\u001b[0;32m    126\u001b[0m         \u001b[1;32melse\u001b[0m\u001b[1;33m:\u001b[0m\u001b[1;33m\u001b[0m\u001b[0m\n\u001b[1;32m--> 127\u001b[1;33m             \u001b[1;32mfor\u001b[0m \u001b[0mnext_node\u001b[0m \u001b[1;32min\u001b[0m \u001b[0mgraph\u001b[0m\u001b[1;33m[\u001b[0m\u001b[0mcurrent_node\u001b[0m\u001b[1;33m]\u001b[0m\u001b[1;33m:\u001b[0m\u001b[1;33m\u001b[0m\u001b[0m\n\u001b[0m\u001b[0;32m    128\u001b[0m                 \u001b[0mcost\u001b[0m \u001b[1;33m=\u001b[0m \u001b[0mgraph\u001b[0m\u001b[1;33m.\u001b[0m\u001b[0medges\u001b[0m\u001b[1;33m[\u001b[0m\u001b[0mcurrent_node\u001b[0m\u001b[1;33m,\u001b[0m \u001b[0mnext_node\u001b[0m\u001b[1;33m]\u001b[0m\u001b[1;33m[\u001b[0m\u001b[1;34m'weight'\u001b[0m\u001b[1;33m]\u001b[0m\u001b[1;33m\u001b[0m\u001b[0m\n\u001b[0;32m    129\u001b[0m                 \u001b[0mnew_cost\u001b[0m \u001b[1;33m=\u001b[0m \u001b[0mcurrent_cost\u001b[0m \u001b[1;33m+\u001b[0m \u001b[0mcost\u001b[0m \u001b[1;33m+\u001b[0m \u001b[0mheuristic\u001b[0m\u001b[1;33m(\u001b[0m\u001b[0mnext_node\u001b[0m\u001b[1;33m,\u001b[0m \u001b[0mgoal\u001b[0m\u001b[1;33m)\u001b[0m\u001b[1;33m\u001b[0m\u001b[0m\n",
      "\u001b[1;31mTypeError\u001b[0m: 'RRT' object is not subscriptable"
     ]
    }
   ],
   "source": [
    "a_star_graph(rrt, heuristic_func, grid_start, grid_goal)"
   ]
  },
  {
   "cell_type": "code",
   "execution_count": 37,
   "metadata": {},
   "outputs": [
    {
     "ename": "TypeError",
     "evalue": "'tuple' object is not callable",
     "output_type": "error",
     "traceback": [
      "\u001b[1;31m---------------------------------------------------------------------------\u001b[0m",
      "\u001b[1;31mTypeError\u001b[0m                                 Traceback (most recent call last)",
      "\u001b[1;32m<ipython-input-37-2b0b39f0ccc6>\u001b[0m in \u001b[0;36m<module>\u001b[1;34m()\u001b[0m\n\u001b[0;32m      1\u001b[0m \u001b[1;32mfor\u001b[0m \u001b[0mi\u001b[0m \u001b[1;32min\u001b[0m \u001b[0mrrt\u001b[0m\u001b[1;33m.\u001b[0m\u001b[0medges\u001b[0m\u001b[1;33m:\u001b[0m\u001b[1;33m\u001b[0m\u001b[0m\n\u001b[1;32m----> 2\u001b[1;33m     \u001b[0mprint\u001b[0m\u001b[1;33m(\u001b[0m\u001b[0mi\u001b[0m\u001b[1;33m(\u001b[0m\u001b[1;36m25\u001b[0m\u001b[1;33m,\u001b[0m\u001b[1;36m100\u001b[0m\u001b[1;33m)\u001b[0m\u001b[1;33m)\u001b[0m\u001b[1;33m\u001b[0m\u001b[0m\n\u001b[0m",
      "\u001b[1;31mTypeError\u001b[0m: 'tuple' object is not callable"
     ]
    }
   ],
   "source": []
  },
  {
   "cell_type": "code",
   "execution_count": null,
   "metadata": {},
   "outputs": [],
   "source": []
  }
 ],
 "metadata": {
  "kernelspec": {
   "display_name": "Python 3",
   "language": "python",
   "name": "python3"
  },
  "language_info": {
   "codemirror_mode": {
    "name": "ipython",
    "version": 3
   },
   "file_extension": ".py",
   "mimetype": "text/x-python",
   "name": "python",
   "nbconvert_exporter": "python",
   "pygments_lexer": "ipython3",
   "version": "3.6.3"
  }
 },
 "nbformat": 4,
 "nbformat_minor": 2
}
